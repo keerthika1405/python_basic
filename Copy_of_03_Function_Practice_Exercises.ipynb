{
  "cells": [
    {
      "cell_type": "markdown",
      "metadata": {
        "id": "WtckdH7EvkcJ"
      },
      "source": [
        "# Assignment 3 Functions\n",
        "\n",
        "Problems are arranged in increasing difficulty:\n",
        "* Warmup - these can be solved using basic comparisons and methods\n",
        "* Level 1 - these may involve if/then conditional statements and simple methods\n",
        "* Level 2 - these may require iterating over sequences, usually with some kind of loop\n",
        "* Challenging - these will take some creativity to solve"
      ]
    },
    {
      "cell_type": "code",
      "source": [],
      "metadata": {
        "id": "EkHNyWFA_Opv"
      },
      "execution_count": null,
      "outputs": []
    },
    {
      "cell_type": "markdown",
      "metadata": {
        "id": "OkR7CicCvkcS"
      },
      "source": [
        "## WARMUP SECTION:"
      ]
    },
    {
      "cell_type": "markdown",
      "metadata": {
        "id": "TKCW2d5_vkcU"
      },
      "source": [
        "#### LESSER OF TWO EVENS: Write a function that returns the lesser of two given numbers *if* both numbers are even, but returns the greater if one or both numbers are odd\n",
        "    lesser_of_two_evens(2,4) --> 2\n",
        "    lesser_of_two_evens(2,5) --> 5"
      ]
    },
    {
      "cell_type": "code",
      "source": [
        "def lesser_of_two_evens(a,b):\n",
        "    if a % 2 == 0 and b % 2 == 0:\n",
        "        if b < a:\n",
        "            return b\n",
        "        else:\n",
        "            return a\n",
        "    else:\n",
        "        if a < b:\n",
        "            return b\n",
        "        else:\n",
        "            return a"
      ],
      "metadata": {
        "id": "_3tAHXeI_09D"
      },
      "execution_count": null,
      "outputs": []
    },
    {
      "cell_type": "code",
      "execution_count": null,
      "metadata": {
        "collapsed": true,
        "colab": {
          "base_uri": "https://localhost:8080/"
        },
        "id": "KHI2ukJnvkcX",
        "outputId": "a8fc9e97-77dd-4f8f-db5b-77c4600aa140"
      },
      "outputs": [
        {
          "output_type": "stream",
          "name": "stdout",
          "text": [
            "2\n"
          ]
        }
      ],
      "source": [
        "# Check\n",
        "lesser_of_two_evens(2,4)\n",
        "def lesser_of_two_evens(a,b):\n",
        "    if(a%2 and b%2)!=0:\n",
        "      if b>a:\n",
        "        print(b)\n",
        "      if a>b:\n",
        "        print(a)\n",
        "\n",
        "    elif(a%2 and b%2)==0:\n",
        "      if a<b:\n",
        "        print(a)\n",
        "      else:\n",
        "        print(b)"
      ]
    },
    {
      "cell_type": "code",
      "execution_count": null,
      "metadata": {
        "collapsed": true,
        "colab": {
          "base_uri": "https://localhost:8080/"
        },
        "id": "vK9f-ksFvkcY",
        "outputId": "1eed1a54-2f05-4ffc-eaa1-0f881cc9ab72"
      },
      "outputs": [
        {
          "output_type": "stream",
          "name": "stdout",
          "text": [
            "5\n"
          ]
        }
      ],
      "source": [
        "# Check\n",
        "lesser_of_two_evens(2,5)\n",
        "def lesser_of_two_evens(a,b):\n",
        "    if(a%2 and b%2)!=0:\n",
        "      if b<a:\n",
        "        return(a)\n",
        "      if a>b:\n",
        "        return(b)\n",
        "\n",
        "    elif(a%2 and b%2)==0:\n",
        "      if a<b:\n",
        "        print(b)\n",
        "      else:\n",
        "        print(a)"
      ]
    },
    {
      "cell_type": "markdown",
      "metadata": {
        "id": "Q8yV8SL8vkcZ"
      },
      "source": [
        "#### ANIMAL CRACKERS: Write a function takes a two-word string and returns True if both words begin with same letter\n",
        "    animal_crackers('Levelheaded Llama') --> True\n",
        "    animal_crackers('Crazy Kangaroo') --> False"
      ]
    },
    {
      "cell_type": "code",
      "execution_count": null,
      "metadata": {
        "collapsed": true,
        "id": "iG_XCazBvkca"
      },
      "outputs": [],
      "source": [
        "def animal_crackers(text):\n",
        "    word_arr = text.split()\n",
        "    if word_arr[0][0].lower() == word_arr[1][0].lower():\n",
        "        return True\n",
        "    else:\n",
        "        return False\n",
        "\n",
        "#     you can also run this as a one liner :\n",
        "#   return word_arr[0][0].lower() == word_arr[1][0].lower()"
      ]
    },
    {
      "cell_type": "code",
      "execution_count": null,
      "metadata": {
        "collapsed": true,
        "colab": {
          "base_uri": "https://localhost:8080/"
        },
        "id": "0KlDAfStvkcq",
        "outputId": "23100991-6b5e-4264-a0e1-e8232f437d82"
      },
      "outputs": [
        {
          "output_type": "stream",
          "name": "stdout",
          "text": [
            "True\n"
          ]
        }
      ],
      "source": [
        "# Check\n",
        "animal_crackers('Levelheaded Llama')\n",
        "def animal_crackers(text):\n",
        "    word_arr = text.split()\n",
        "    if word_arr[0][0].lower() == word_arr[1][0].lower():\n",
        "        print ('True')\n",
        "    else:\n",
        "        print ('False')\n",
        "\n",
        "#     you can also run this as a one liner :\n",
        "#   return word_arr[0][0].lower() == word_arr[1][0].lower()"
      ]
    },
    {
      "cell_type": "code",
      "execution_count": null,
      "metadata": {
        "colab": {
          "base_uri": "https://localhost:8080/"
        },
        "id": "ABz2JPoRvkcs",
        "outputId": "ed88b888-cb53-4c0f-b55f-f2b48a4f834f"
      },
      "outputs": [
        {
          "output_type": "stream",
          "name": "stdout",
          "text": [
            "False\n"
          ]
        }
      ],
      "source": [
        "# Check\n",
        "animal_crackers('Crazy Kangaroo')\n",
        "def animal_crackers(text):\n",
        "    word_arr = text.split()\n",
        "    if word_arr[0][0].lower() == word_arr[1][0].lower():\n",
        "        return True\n",
        "    else:\n",
        "        return False\n",
        "\n",
        "#     you can also run this as a one liner :\n",
        "#   return word_arr[0][0].lower() == word_arr[1][0].lower()"
      ]
    },
    {
      "cell_type": "markdown",
      "metadata": {
        "id": "M6lA0ur3vkct"
      },
      "source": [
        "**Question 4\n",
        "Use a list comprehension to create a list of squared numbers (n*n). The function receives the variables start and end, and returns a list of squares of consecutive numbers between start and end inclusively. For example, squares(2, 3) should return [4, 9]**"
      ]
    },
    {
      "cell_type": "code",
      "execution_count": null,
      "metadata": {
        "id": "Fb8Kq7Zsvkcz"
      },
      "outputs": [],
      "source": [
        "def squares(start, end):\n",
        "    return # list comphrension here\n"
      ]
    },
    {
      "cell_type": "code",
      "execution_count": null,
      "metadata": {
        "id": "9YlbqwPfvkc2"
      },
      "outputs": [],
      "source": [
        "print(squares(2, 3)) # Should be [4, 9]\n",
        "print(squares(1, 5)) # Should be [1, 4, 9, 16, 25]\n",
        "print(squares(0, 10)) # Should be [0, 1, 4, 9, 16, 25, 36, 49, 64, 81, 100]"
      ]
    },
    {
      "cell_type": "markdown",
      "metadata": {
        "id": "nuRjBL87vkc3"
      },
      "source": [
        "#### MAKES TWENTY: Given two integers, return True if the sum of the integers is 20 *or* if one of the integers is 20. If not, return False\n",
        "\n",
        "    makes_twenty(20,10) --> True\n",
        "    makes_twenty(12,8) --> True\n",
        "    makes_twenty(2,3) --> False"
      ]
    },
    {
      "cell_type": "code",
      "execution_count": null,
      "metadata": {
        "collapsed": true,
        "id": "Hnzl4xbhvkc4"
      },
      "outputs": [],
      "source": [
        "def makes_twenty(n1,n2):\n",
        "    if n1 + n2 == 20:\n",
        "        return True\n",
        "    else:\n",
        "        return n1 == 20 or n2 == 20\n",
        "\n",
        "#     also written with or statement\n",
        "#       return (n1 + n2) == 20 or n1 == 20 or n2 == 20"
      ]
    },
    {
      "cell_type": "code",
      "execution_count": null,
      "metadata": {
        "collapsed": true,
        "id": "V0Oc18V9vkc5"
      },
      "outputs": [],
      "source": [
        "# Check\n",
        "makes_twenty(20,10)\n",
        "def makes_twenty(n1,n2):\n",
        "    if n1 + n2 == 20:\n",
        "        return True\n",
        "    else:\n",
        "        return n1 == 20 or n2 == 20\n",
        "\n",
        "#     also written with or statement\n",
        "#       return (n1 + n2) == 20 or n1 == 20 or n2 == 20"
      ]
    },
    {
      "cell_type": "code",
      "execution_count": null,
      "metadata": {
        "collapsed": true,
        "id": "8aKC1zzivkc6"
      },
      "outputs": [],
      "source": [
        "# Check\n",
        "makes_twenty(2,3)\n",
        "def makes_twenty(n1,n2):\n",
        "    if n1 + n2 == 20:\n",
        "        return True\n",
        "    else:\n",
        "        return n1 == 20 or n2 == 20\n",
        "\n",
        "#     also written with or statement\n",
        "#       return (n1 + n2) == 20 or n1 == 20 or n2 == 20"
      ]
    },
    {
      "cell_type": "markdown",
      "metadata": {
        "id": "uBwzDe1avkc7"
      },
      "source": [
        "# LEVEL 1 PROBLEMS"
      ]
    },
    {
      "cell_type": "markdown",
      "metadata": {
        "id": "l7Bpvt16vkc8"
      },
      "source": [
        "#### OLD MACDONALD: Write a function that capitalizes the first and fourth letters of a name\n",
        "     \n",
        "    old_macdonald('macdonald') --> MacDonald\n",
        "    \n",
        "Note: `'macdonald'.capitalize()` returns `'Macdonald'`"
      ]
    },
    {
      "cell_type": "code",
      "execution_count": null,
      "metadata": {
        "collapsed": true,
        "id": "j8C23IBJvkc9"
      },
      "outputs": [],
      "source": [
        "def old_macdonald(name):\n",
        "  first_split = name[:3]\n",
        "# splits the name into indexes\n",
        "  remaining_split = name[3:]\n",
        "  return first_split.capitalize() + remaining_split.capitalize()"
      ]
    },
    {
      "cell_type": "code",
      "execution_count": null,
      "metadata": {
        "collapsed": true,
        "id": "bc4qzVCtvkdB"
      },
      "outputs": [],
      "source": [
        "# Check\n",
        "old_macdonald('macdonald')\n",
        "def old_macdonald(name):\n",
        "  first_split = name[:3]\n",
        "# splits the name into indexes\n",
        "  remaining_split = name[3:]\n",
        "  return first_split.capitalize() + remaining_split.capitalize()"
      ]
    },
    {
      "cell_type": "markdown",
      "metadata": {
        "id": "kSDvD96evkdC"
      },
      "source": [
        "#### MASTER YODA: Given a sentence, return a sentence with the words reversed\n",
        "\n",
        "    master_yoda('I am home') --> 'home am I'\n",
        "    master_yoda('We are ready') --> 'ready are We'\n",
        "    \n",
        "Note: The .join() method may be useful here. The .join() method allows you to join together strings in a list with some connector string. For example, some uses of the .join() method:\n",
        "\n",
        "    >>> \"--\".join(['a','b','c'])\n",
        "    >>> 'a--b--c'\n",
        "\n",
        "This means if you had a list of words you wanted to turn back into a sentence, you could just join them with a single space string:\n",
        "\n",
        "    >>> \" \".join(['Hello','world'])\n",
        "    >>> \"Hello world\""
      ]
    },
    {
      "cell_type": "code",
      "execution_count": null,
      "metadata": {
        "collapsed": true,
        "id": "yctyiXumvkdD"
      },
      "outputs": [],
      "source": [
        "def master_yoda(text):\n",
        "    word_arr = text.split()\n",
        "#     splits the words to work with them individually\n",
        "    result = word_arr[::-1]\n",
        "#     reverses the order of the letters inside of the words\n",
        "    return ' '.join(result)\n",
        "#   returns the array into a string of words separated by a space"
      ]
    },
    {
      "cell_type": "code",
      "execution_count": null,
      "metadata": {
        "collapsed": true,
        "id": "5ys9oUTIvkdF"
      },
      "outputs": [],
      "source": [
        "# Check\n",
        "master_yoda('I am home')\n",
        "def master_yoda(text):\n",
        "    word_arr = text.split()\n",
        "#     splits the words to work with them individually\n",
        "    result = word_arr[::-1]\n",
        "#     reverses the order of the letters inside of the words\n",
        "    return ' '.join(result)\n",
        "#   returns the array into a string of words separated by a space"
      ]
    },
    {
      "cell_type": "code",
      "execution_count": null,
      "metadata": {
        "collapsed": true,
        "id": "3mLCik3uvkdG"
      },
      "outputs": [],
      "source": [
        "# Check\n",
        "master_yoda('We are ready')\n",
        "def master_yoda(text):\n",
        "    word_arr = text.split()\n",
        "#     splits the words to work with them individually\n",
        "    result = word_arr[::-1]\n",
        "#     reverses the order of the letters inside of the words\n",
        "    return ' '.join(result)\n",
        "#   returns the array into a string of words separated by a space"
      ]
    },
    {
      "cell_type": "markdown",
      "metadata": {
        "id": "9FlNfwKhvkdH"
      },
      "source": [
        "#### ALMOST THERE: Given an integer n, return True if n is within 10 of either 100 or 200\n",
        "\n",
        "    almost_there(90) --> True\n",
        "    almost_there(104) --> True\n",
        "    almost_there(150) --> False\n",
        "    almost_there(209) --> True\n",
        "    \n",
        "NOTE: `abs(num)` returns the absolute value of a number"
      ]
    },
    {
      "cell_type": "code",
      "execution_count": null,
      "metadata": {
        "collapsed": true,
        "id": "CiUMJshzvkdH"
      },
      "outputs": [],
      "source": [
        "def almost_there(n):\n",
        "    return abs(100 - n ) <= 10 or abs(200 - n) <= 10"
      ]
    },
    {
      "cell_type": "code",
      "execution_count": null,
      "metadata": {
        "collapsed": true,
        "id": "B68glu07vkdI"
      },
      "outputs": [],
      "source": [
        "# Check\n",
        "almost_there(104)\n",
        "def almost_there(n):\n",
        "    return abs(100 - n ) <= 10 or abs(200 - n) <= 10"
      ]
    },
    {
      "cell_type": "code",
      "execution_count": null,
      "metadata": {
        "collapsed": true,
        "id": "yhAb4OAZvkdK"
      },
      "outputs": [],
      "source": [
        "# Check\n",
        "almost_there(150)\n",
        "def almost_there(n):\n",
        "    return abs(100 - n ) <= 10 or abs(200 - n) <= 10"
      ]
    },
    {
      "cell_type": "code",
      "execution_count": null,
      "metadata": {
        "collapsed": true,
        "id": "iU-jXReXvkdL"
      },
      "outputs": [],
      "source": [
        "# Check\n",
        "almost_there(209)\n",
        "def almost_there(n):\n",
        "    return abs(100 - n ) <= 10 or abs(200 - n) <= 10"
      ]
    },
    {
      "cell_type": "markdown",
      "metadata": {
        "id": "L_QYzEOfvkdM"
      },
      "source": [
        "**The highlight_word function changes the given word in a sentence to its upper-case version. For example, highlight_word(\"Have a nice day\", \"nice\") returns \"Have a NICE day\". Can you write this function in just one line?**"
      ]
    },
    {
      "cell_type": "code",
      "execution_count": null,
      "metadata": {
        "id": "LcGcXQGsvkdM"
      },
      "outputs": [],
      "source": [
        "def highlight_word(sentence, word):\n",
        "    return(sentence.replace(word,word.upper()))"
      ]
    },
    {
      "cell_type": "code",
      "execution_count": null,
      "metadata": {
        "colab": {
          "base_uri": "https://localhost:8080/"
        },
        "id": "yq9DTkiIvkdP",
        "outputId": "eba25171-6b30-44e0-aa65-0bebead19493"
      },
      "outputs": [
        {
          "output_type": "stream",
          "name": "stdout",
          "text": [
            "Have a NICE day\n",
            "Shhh, don't be so LOUD!\n",
            "Automating with Python is FUN\n"
          ]
        }
      ],
      "source": [
        "def highlight_word(sentence, word):\n",
        "    return(sentence.replace(word,word.upper()))\n",
        "\n",
        "print(highlight_word(\"Have a nice day\", \"nice\"))\n",
        "# Have a NICE day\n",
        "print(highlight_word(\"Shhh, don't be so loud!\", \"loud\"))\n",
        "#Shhh, don't be so LOUD!\n",
        "print(highlight_word(\"Automating with Python is fun\", \"fun\"))\n",
        "#Automating with Python is FUN"
      ]
    },
    {
      "cell_type": "markdown",
      "metadata": {
        "id": "Uy4ewIMuvkdR"
      },
      "source": [
        "**Complete the code to iterate through the keys and values of the car_prices dictionary, printing out some information about each one**"
      ]
    },
    {
      "cell_type": "code",
      "execution_count": null,
      "metadata": {
        "colab": {
          "base_uri": "https://localhost:8080/"
        },
        "id": "C7Ae_0zLvkdS",
        "outputId": "89b02389-723f-4fd9-b481-97f816400500"
      },
      "outputs": [
        {
          "output_type": "stream",
          "name": "stdout",
          "text": [
            "Kia Soul costs 19000 dollars\n",
            "Lamborghini Diablo costs 55000 dollars\n",
            "Ford Fiesta costs 13000 dollars\n",
            "Toyota Prius costs 24000 dollars\n",
            "\n"
          ]
        }
      ],
      "source": [
        "def car_listing(car_prices):\n",
        "  result = \"\"\n",
        "  for cars in car_prices:\n",
        "    result += \"{} costs {} dollars\".format(cars, car_prices[cars]) + \"\\n\"\n",
        "  return result\n",
        "print(car_listing({\"Kia Soul\":19000, \"Lamborghini Diablo\":55000, \"Ford Fiesta\":13000, \"Toyota Prius\":24000}))"
      ]
    },
    {
      "cell_type": "markdown",
      "metadata": {
        "id": "pRz023MYvkdT"
      },
      "source": [
        "# LEVEL 2 PROBLEMS"
      ]
    },
    {
      "cell_type": "markdown",
      "metadata": {
        "id": "UXteHRbPvkdU"
      },
      "source": [
        "#### FIND 33:\n",
        "\n",
        "Given a list of ints, return True if the array contains a 3 next to a 3 somewhere.\n",
        "\n",
        "    has_33([1, 3, 3]) → True\n",
        "    has_33([1, 3, 1, 3]) → False\n",
        "    has_33([3, 1, 3]) → False"
      ]
    },
    {
      "cell_type": "code",
      "execution_count": null,
      "metadata": {
        "collapsed": true,
        "id": "02IezXY6vkdV"
      },
      "outputs": [],
      "source": [
        "def has_33(nums):\n",
        " for i in range(0,len(nums)-1):\n",
        "      if nums[i:i+2] == [3,3]:\n",
        "          return True\n",
        "      else:\n",
        "        return False\n"
      ]
    },
    {
      "cell_type": "code",
      "execution_count": null,
      "metadata": {
        "collapsed": true,
        "id": "q2FxaRD0vkdW"
      },
      "outputs": [],
      "source": [
        "# Check\n",
        "has_33([1, 3, 3])\n",
        "def has_33(nums):\n",
        "    for i in range(0,len(nums)-1):\n",
        "        if nums[i:i+2] == [3,3]:\n",
        "          return True\n",
        "    else:\n",
        "        return False\n",
        "\n"
      ]
    },
    {
      "cell_type": "code",
      "execution_count": null,
      "metadata": {
        "collapsed": true,
        "id": "P3GlQYTEvkdY"
      },
      "outputs": [],
      "source": [
        "# Check\n",
        "has_33([1, 3, 1, 3])\n",
        "def has_33(nums):\n",
        "    for i in range(0,len(nums)-1):\n",
        "        if nums[i:i+2] == [3,3]:\n",
        "          return True\n",
        "    else:\n",
        "        return False\n",
        ""
      ]
    },
    {
      "cell_type": "code",
      "execution_count": null,
      "metadata": {
        "collapsed": true,
        "id": "1sZY3tBtvkdZ"
      },
      "outputs": [],
      "source": [
        "# Check\n",
        "has_33([3, 1, 3])\n",
        "def has_33(nums):\n",
        "    for i in range(0,len(nums)-1):\n",
        "        if nums[i:i+2] == [3,3]:\n",
        "          return True\n",
        "    else:\n",
        "        return False"
      ]
    },
    {
      "cell_type": "markdown",
      "metadata": {
        "id": "-P0hbcafvkdZ"
      },
      "source": [
        "#### PAPER DOLL: Given a string, return a string where for every character in the original there are three characters\n",
        "    paper_doll('Hello') --> 'HHHeeellllllooo'\n",
        "    paper_doll('Mississippi') --> 'MMMiiissssssiiippppppiii'"
      ]
    },
    {
      "cell_type": "code",
      "execution_count": null,
      "metadata": {
        "collapsed": true,
        "id": "ZIG5asG-vkdb"
      },
      "outputs": [],
      "source": [
        "def paper_doll(text):\n",
        "    result = ''\n",
        "    for char in text:\n",
        "      result += char * 3\n",
        "    return result"
      ]
    },
    {
      "cell_type": "code",
      "execution_count": null,
      "metadata": {
        "collapsed": true,
        "id": "DwZxAWikvkdc"
      },
      "outputs": [],
      "source": [
        "# Check\n",
        "paper_doll('Hello')\n",
        "def paper_doll(text):\n",
        "    result = ''\n",
        "    for char in text:\n",
        "      result += char * 3\n",
        "    return result\n"
      ]
    },
    {
      "cell_type": "code",
      "execution_count": null,
      "metadata": {
        "collapsed": true,
        "id": "NQwnHqUxvkdc"
      },
      "outputs": [],
      "source": [
        "# Check\n",
        "paper_doll('Mississippi')\n",
        "def paper_doll(text):\n",
        "    result = ''\n",
        "    for char in text:\n",
        "      result += char * 3\n",
        "    return result"
      ]
    },
    {
      "cell_type": "markdown",
      "metadata": {
        "id": "uD0eZ0fJvkdd"
      },
      "source": [
        "#### BLACKJACK: Given three integers between 1 and 11, if their sum is less than or equal to 21, return their sum. If their sum exceeds 21 *and* there's an eleven, reduce the total sum by 10. Finally, if the sum (even after adjustment) exceeds 21, return 'BUST'\n",
        "    blackjack(5,6,7) --> 18\n",
        "    blackjack(9,9,9) --> 'BUST'\n",
        "    blackjack(9,9,11) --> 19"
      ]
    },
    {
      "cell_type": "code",
      "execution_count": null,
      "metadata": {
        "collapsed": true,
        "id": "Q5w8JaZ8vkde"
      },
      "outputs": [],
      "source": [
        "def blackjack(a,b,c):\n",
        "    if sum((a,b,c)) <= 21:\n",
        "       return sum((a,b,c))\n",
        "    elif sum((a,b,c)) <=31 and 11 in (a,b,c):\n",
        "       return sum((a,b,c)) - 10\n",
        "    else:\n",
        "       return 'BUST'"
      ]
    },
    {
      "cell_type": "code",
      "execution_count": null,
      "metadata": {
        "collapsed": true,
        "id": "Kq7a7Vjhvkde"
      },
      "outputs": [],
      "source": [
        "# Check\n",
        "blackjack(5,6,7)\n",
        "def blackjack(a,b,c):\n",
        "    if sum((a,b,c)) <= 21:\n",
        "       return sum((a,b,c))\n",
        "    elif sum((a,b,c)) <=31 and 11 in (a,b,c):\n",
        "       return sum((a,b,c)) - 10\n",
        "    else:\n",
        "       return 'BUST'"
      ]
    },
    {
      "cell_type": "code",
      "execution_count": null,
      "metadata": {
        "collapsed": true,
        "id": "rCVNSR6Wvkdf"
      },
      "outputs": [],
      "source": [
        "# Check\n",
        "blackjack(9,9,9)\n",
        "def blackjack(a,b,c):\n",
        "    if sum((a,b,c)) <= 21:\n",
        "       return sum((a,b,c))\n",
        "    elif sum((a,b,c)) <=31 and 11 in (a,b,c):\n",
        "       return sum((a,b,c)) - 10\n",
        "    else:\n",
        "       return 'BUST'"
      ]
    },
    {
      "cell_type": "code",
      "execution_count": null,
      "metadata": {
        "collapsed": true,
        "id": "xMwxjCrTvkdf"
      },
      "outputs": [],
      "source": [
        "# Check\n",
        "blackjack(9,9,11)\n",
        "def blackjack(a,b,c):\n",
        "    if sum((a,b,c)) <= 21:\n",
        "       return sum((a,b,c))\n",
        "    elif sum((a,b,c)) <=31 and 11 in (a,b,c):\n",
        "       return sum((a,b,c)) - 10\n",
        "    else:\n",
        "       return 'BUST'"
      ]
    },
    {
      "cell_type": "markdown",
      "metadata": {
        "id": "j5uZiiAqvkdg"
      },
      "source": [
        "#### SUMMER OF '69: Return the sum of the numbers in the array, except ignore sections of numbers starting with a 6 and extending to the next 9 (every 6 will be followed by at least one 9). Return 0 for no numbers.\n",
        "\n",
        "    summer_69([1, 3, 5]) --> 9\n",
        "    summer_69([4, 5, 6, 7, 8, 9]) --> 9\n",
        "    summer_69([2, 1, 6, 9, 11]) --> 14"
      ]
    },
    {
      "cell_type": "code",
      "execution_count": null,
      "metadata": {
        "collapsed": true,
        "id": "V-UYi1_cvkdh"
      },
      "outputs": [],
      "source": [
        "def summer_69(arr):\n",
        "    total = 0\n",
        "    add = True\n",
        "    for num in arr:\n",
        "      while add:\n",
        "       if num != 6:\n",
        "         total += num\n",
        "         break\n",
        "       else:\n",
        "         add = False\n",
        "      while not add:\n",
        "          if num != 9:\n",
        "            break\n",
        "      else:\n",
        "         add = True\n",
        "         break\n",
        "    return total\n"
      ]
    },
    {
      "cell_type": "code",
      "execution_count": null,
      "metadata": {
        "collapsed": true,
        "id": "JwetZqWhvkdk"
      },
      "outputs": [],
      "source": [
        "# Check\n",
        "summer_69([1, 3, 5])\n",
        "def summer_69(arr):\n",
        "    total = 0\n",
        "    add = True\n",
        "    for num in arr:\n",
        "      while add:\n",
        "       if num != 6:\n",
        "         total += num\n",
        "         break\n",
        "       else:\n",
        "         add = False\n",
        "      while not add:\n",
        "          if num != 9:\n",
        "            break\n",
        "      else:\n",
        "         add = True\n",
        "         break\n",
        "    return total\n"
      ]
    },
    {
      "cell_type": "code",
      "execution_count": null,
      "metadata": {
        "collapsed": true,
        "id": "K6_mt12Tvkdm"
      },
      "outputs": [],
      "source": [
        "# Check\n",
        "summer_69([4, 5, 6, 7, 8, 9])\n",
        "def summer_69(arr):\n",
        "    total = 0\n",
        "    add = True\n",
        "    for num in arr:\n",
        "      while add:\n",
        "       if num != 6:\n",
        "         total += num\n",
        "         break\n",
        "       else:\n",
        "         add = False\n",
        "      while not add:\n",
        "          if num != 9:\n",
        "            break\n",
        "      else:\n",
        "         add = True\n",
        "         break\n",
        "    return total\n"
      ]
    },
    {
      "cell_type": "code",
      "execution_count": null,
      "metadata": {
        "collapsed": true,
        "id": "EVPxycZgvkdn"
      },
      "outputs": [],
      "source": [
        "# Check\n",
        "summer_69([2, 1, 6, 9, 11])\n",
        "def summer_69(arr):\n",
        "    total = 0\n",
        "    add = True\n",
        "    for num in arr:\n",
        "      while add:\n",
        "       if num != 6:\n",
        "         total += num\n",
        "         break\n",
        "       else:\n",
        "         add = False\n",
        "      while not add:\n",
        "          if num != 9:\n",
        "            break\n",
        "      else:\n",
        "         add = True\n",
        "         break\n",
        "    return total\n"
      ]
    },
    {
      "cell_type": "markdown",
      "metadata": {
        "id": "Z3MOjA60vkdn"
      },
      "source": [
        "**Taylor and Rory are hosting a party. They sent out invitations, and each one collected responses into dictionaries, with names of their friends and how many guests each friend is bringing. Each dictionary is a partial list, but Rory's list has more current information about the number of guests. Fill in the blanks to combine both dictionaries into one, with each friend listed only once, and the number of guests from Rory's dictionary taking precedence, if a name is included in both dictionaries. Then print the resulting dictionary.**"
      ]
    },
    {
      "cell_type": "code",
      "execution_count": null,
      "metadata": {
        "colab": {
          "base_uri": "https://localhost:8080/"
        },
        "id": "VZ0l63mfvkdo",
        "outputId": "cf9440d6-667a-4a3b-a364-ded12895fdb0"
      },
      "outputs": [
        {
          "output_type": "stream",
          "name": "stdout",
          "text": [
            "{'David': 1, 'Nancy': 1, 'Robert': 4, 'Adam': 2, 'Samantha': 3, 'Chris': 5, 'Brenda': 3, 'Jose': 3, 'Charlotte': 2, 'Terry': 1}\n"
          ]
        }
      ],
      "source": [
        "def combine_guests(guests1, guests2):\n",
        "  # Combine both dictionaries into one, with each key listed\n",
        "  # only once, and the value from guests1 taking precedence\n",
        "\n",
        "  guests2.update (guests1)\n",
        "  return guests2\n",
        "\n",
        "Rorys_guests = { \"Adam\":2, \"Brenda\":3, \"David\":1, \"Jose\":3, \"Charlotte\":2, \"Terry\":1, \"Robert\":4}\n",
        "Taylors_guests = { \"David\":4, \"Nancy\":1, \"Robert\":2, \"Adam\":1, \"Samantha\":3, \"Chris\":5}\n",
        "\n",
        "print(combine_guests(Rorys_guests, Taylors_guests))\n",
        "# shuld give {'David': 1, 'Nancy': 1, 'Robert': 4, 'Adam': 2, 'Samantha': 3, 'Chris': 5, 'Brenda': 3, 'Jose': 3, 'Charlotte': 2, 'Terry': 1}"
      ]
    },
    {
      "cell_type": "code",
      "execution_count": null,
      "metadata": {
        "id": "1yBVwnubvkdo"
      },
      "outputs": [],
      "source": []
    },
    {
      "cell_type": "markdown",
      "metadata": {
        "id": "142xmYR5vkdp"
      },
      "source": [
        "# CHALLENGING PROBLEMS"
      ]
    },
    {
      "cell_type": "markdown",
      "metadata": {
        "id": "1b6BEKsavkdt"
      },
      "source": [
        "#### SPY GAME: Write a function that takes in a list of integers and returns True if it contains 007 in order\n",
        "\n",
        "     spy_game([1,2,4,0,0,7,5]) --> True\n",
        "     spy_game([1,0,2,4,0,5,7]) --> True\n",
        "     spy_game([1,7,2,0,4,5,0]) --> False\n"
      ]
    },
    {
      "cell_type": "code",
      "execution_count": null,
      "metadata": {
        "id": "lmi0r2Rvvkdu"
      },
      "outputs": [],
      "source": [
        "def spy_game(nums):\n",
        "    code = [0,0,7,'x']\n",
        "    for num in nums:\n",
        "       if num == code[0]:\n",
        "         code.pop(0)\n",
        "    return len(code) == 1"
      ]
    },
    {
      "cell_type": "code",
      "execution_count": null,
      "metadata": {
        "id": "2e9ZwNO6vkdv"
      },
      "outputs": [],
      "source": [
        "# Check\n",
        "spy_game([1,2,4,0,0,7,5])\n",
        "def spy_game(nums):\n",
        "    code = [0,0,7,'x']\n",
        "    for num in nums:\n",
        "       if num == code[0]:\n",
        "         code.pop(0)\n",
        "    return len(code) == 1"
      ]
    },
    {
      "cell_type": "code",
      "execution_count": null,
      "metadata": {
        "collapsed": true,
        "id": "IrYf3dWXvkdw"
      },
      "outputs": [],
      "source": [
        "# Check\n",
        "spy_game([1,0,2,4,0,5,7])\n",
        "def spy_game(nums):\n",
        "    code = [0,0,7,'x']\n",
        "    for num in nums:\n",
        "       if num == code[0]:\n",
        "         code.pop(0)\n",
        "    return len(code) == 1"
      ]
    },
    {
      "cell_type": "code",
      "execution_count": null,
      "metadata": {
        "collapsed": true,
        "id": "Eyh6zsvXvkd3"
      },
      "outputs": [],
      "source": [
        "# Check\n",
        "spy_game([1,7,2,0,4,5,0])\n",
        "def spy_game(nums):\n",
        "    code = [0,0,7,'x']\n",
        "    for num in nums:\n",
        "       if num == code[0]:\n",
        "         code.pop(0)\n",
        "    return len(code) == 1"
      ]
    },
    {
      "cell_type": "markdown",
      "metadata": {
        "id": "eSncshgMvkd4"
      },
      "source": [
        "#### COUNT PRIMES: Write a function that returns the *number* of prime numbers that exist up to and including a given number\n",
        "    count_primes(100) --> 25\n",
        "\n",
        "By convention, 0 and 1 are not prime."
      ]
    },
    {
      "cell_type": "code",
      "execution_count": null,
      "metadata": {
        "collapsed": true,
        "id": "6vClZegHvkd5"
      },
      "outputs": [],
      "source": [
        "def count_primes(num):\n",
        "    primes = [2]\n",
        "    x = 3\n",
        "    if num < 2:\n",
        "       # for the case of num = 0 or 1\n",
        "       return 0\n",
        "    while x <= num:\n",
        "      for y in range(3,x,2):\n",
        "       # test all odd factors up to x-1\n",
        "             if x%y == 0:\n",
        "                x += 2\n",
        ""
      ]
    },
    {
      "cell_type": "code",
      "execution_count": null,
      "metadata": {
        "collapsed": true,
        "id": "sIv-ldyEvkd6",
        "colab": {
          "base_uri": "https://localhost:8080/",
          "height": 375
        },
        "outputId": "4d0be19c-7933-4ae9-d6ff-8dbb8717986f"
      },
      "outputs": [
        {
          "output_type": "error",
          "ename": "KeyboardInterrupt",
          "evalue": "ignored",
          "traceback": [
            "\u001b[0;31m---------------------------------------------------------------------------\u001b[0m",
            "\u001b[0;31mKeyboardInterrupt\u001b[0m                         Traceback (most recent call last)",
            "\u001b[0;32m<ipython-input-3-31566416cbe9>\u001b[0m in \u001b[0;36m<module>\u001b[0;34m\u001b[0m\n\u001b[1;32m      1\u001b[0m \u001b[0;31m# Check\u001b[0m\u001b[0;34m\u001b[0m\u001b[0;34m\u001b[0m\u001b[0;34m\u001b[0m\u001b[0m\n\u001b[0;32m----> 2\u001b[0;31m \u001b[0mcount_primes\u001b[0m\u001b[0;34m(\u001b[0m\u001b[0;36m100\u001b[0m\u001b[0;34m)\u001b[0m\u001b[0;34m\u001b[0m\u001b[0;34m\u001b[0m\u001b[0m\n\u001b[0m\u001b[1;32m      3\u001b[0m \u001b[0;32mdef\u001b[0m \u001b[0mcount_primes\u001b[0m\u001b[0;34m(\u001b[0m\u001b[0mnum\u001b[0m\u001b[0;34m)\u001b[0m\u001b[0;34m:\u001b[0m\u001b[0;34m\u001b[0m\u001b[0;34m\u001b[0m\u001b[0m\n\u001b[1;32m      4\u001b[0m     \u001b[0mprimes\u001b[0m \u001b[0;34m=\u001b[0m \u001b[0;34m[\u001b[0m\u001b[0;36m2\u001b[0m\u001b[0;34m]\u001b[0m\u001b[0;34m\u001b[0m\u001b[0;34m\u001b[0m\u001b[0m\n\u001b[1;32m      5\u001b[0m     \u001b[0mx\u001b[0m \u001b[0;34m=\u001b[0m \u001b[0;36m3\u001b[0m\u001b[0;34m\u001b[0m\u001b[0;34m\u001b[0m\u001b[0m\n",
            "\u001b[0;32m<ipython-input-2-dd9519f0be5f>\u001b[0m in \u001b[0;36mcount_primes\u001b[0;34m(num)\u001b[0m\n\u001b[1;32m      6\u001b[0m        \u001b[0;32mreturn\u001b[0m \u001b[0;36m0\u001b[0m\u001b[0;34m\u001b[0m\u001b[0;34m\u001b[0m\u001b[0m\n\u001b[1;32m      7\u001b[0m     \u001b[0;32mwhile\u001b[0m \u001b[0mx\u001b[0m \u001b[0;34m<=\u001b[0m \u001b[0mnum\u001b[0m\u001b[0;34m:\u001b[0m\u001b[0;34m\u001b[0m\u001b[0;34m\u001b[0m\u001b[0m\n\u001b[0;32m----> 8\u001b[0;31m       \u001b[0;32mfor\u001b[0m \u001b[0my\u001b[0m \u001b[0;32min\u001b[0m \u001b[0mrange\u001b[0m\u001b[0;34m(\u001b[0m\u001b[0;36m3\u001b[0m\u001b[0;34m,\u001b[0m\u001b[0mx\u001b[0m\u001b[0;34m,\u001b[0m\u001b[0;36m2\u001b[0m\u001b[0;34m)\u001b[0m\u001b[0;34m:\u001b[0m\u001b[0;34m\u001b[0m\u001b[0;34m\u001b[0m\u001b[0m\n\u001b[0m\u001b[1;32m      9\u001b[0m        \u001b[0;31m# test all odd factors up to x-1\u001b[0m\u001b[0;34m\u001b[0m\u001b[0;34m\u001b[0m\u001b[0;34m\u001b[0m\u001b[0m\n\u001b[1;32m     10\u001b[0m              \u001b[0;32mif\u001b[0m \u001b[0mx\u001b[0m\u001b[0;34m%\u001b[0m\u001b[0my\u001b[0m \u001b[0;34m==\u001b[0m \u001b[0;36m0\u001b[0m\u001b[0;34m:\u001b[0m\u001b[0;34m\u001b[0m\u001b[0;34m\u001b[0m\u001b[0m\n",
            "\u001b[0;31mKeyboardInterrupt\u001b[0m: "
          ]
        }
      ],
      "source": [
        "# Check\n",
        "count_primes(100)\n",
        "def count_primes(num):\n",
        "    primes = [2]\n",
        "    x = 3\n",
        "    if num < 2:\n",
        "       # for the case of num = 0 or 1\n",
        "       return 0\n",
        "    while x <= num:\n",
        "      for y in range(3,x,2):\n",
        "       # test all odd factors up to x-1\n",
        "             if x%y == 0:\n",
        "                x += 2\n",
        ""
      ]
    },
    {
      "cell_type": "markdown",
      "metadata": {
        "id": "aOcbeGDfvkd7"
      },
      "source": [
        "### Just for fun:\n",
        "#### PRINT BIG: Write a function that takes in a single letter, and returns a 5x5 representation of that letter\n",
        "    print_big('a')\n",
        "    \n",
        "    out:   *  \n",
        "          * *\n",
        "         *****\n",
        "         *   *\n",
        "         *   *\n",
        "HINT: Consider making a dictionary of possible patterns, and mapping the alphabet to specific 5-line combinations of patterns. <br>For purposes of this exercise, it's ok if your dictionary stops at \"E\"."
      ]
    },
    {
      "cell_type": "code",
      "execution_count": null,
      "metadata": {
        "collapsed": true,
        "id": "gYP6HZewvkd7"
      },
      "outputs": [],
      "source": [
        "def print_big(letter):\n",
        "    patterns = {1:'  *  ',2:' * * ',3:'*   *',4:'*****',5:'**** ',6:'   * ',7:' *   ',8:'*   * ',9:'*    '}\n",
        "    alphabet = {'A':[1,2,4,3,3],'B':[5,3,5,3,5],'C':[4,9,9,9,4],'D':[5,3,3,3,5],'E':[4,9,4,9,4]}\n",
        "    for pattern in alphabet[letter.upper()]:\n",
        "        print(patterns[pattern])"
      ]
    },
    {
      "cell_type": "code",
      "execution_count": null,
      "metadata": {
        "collapsed": true,
        "id": "6EeMbSXZvkd8",
        "colab": {
          "base_uri": "https://localhost:8080/"
        },
        "outputId": "2333e6e4-93e1-4413-fc01-d5c7c6ff90c6"
      },
      "outputs": [
        {
          "output_type": "stream",
          "name": "stdout",
          "text": [
            "  *  \n",
            " * * \n",
            "*****\n",
            "*   *\n",
            "*   *\n"
          ]
        }
      ],
      "source": [
        "print_big('a')"
      ]
    },
    {
      "cell_type": "markdown",
      "metadata": {
        "id": "QDFsn1ufvkd8"
      },
      "source": [
        "**The format_address function separates out parts of the address string into new strings: house_number and street_name, and returns: \"house number X on street named Y\". The format of the input string is: numeric house number, followed by the street name which may contain numbers, but never by themselves, and could be several words long. For example, \"123 Main Street\", \"1001 1st Ave\", or \"55 North Center Drive\". Fill in the gaps to complete this function.**"
      ]
    },
    {
      "cell_type": "code",
      "execution_count": null,
      "metadata": {
        "id": "p1BzEmPavkd9",
        "colab": {
          "base_uri": "https://localhost:8080/"
        },
        "outputId": "f43b6ea3-863e-49f6-8776-04cc28ef509c"
      },
      "outputs": [
        {
          "output_type": "stream",
          "name": "stdout",
          "text": [
            "house number 123 on street named  \n"
          ]
        }
      ],
      "source": [
        "def format_address(address_string):\n",
        "  # Declare variables\n",
        "\n",
        "  # Separate the address string into parts\n",
        "\n",
        "  # Traverse through the address parts\n",
        "\n",
        "    # Determine if the address part is the\n",
        "    # house number or part of the street name\n",
        "  # Does anything else need to be done\n",
        "  # before returning the result?\n",
        "\n",
        "  # Return the formatted string\n",
        "\n",
        "\n",
        "\n",
        "  # Declare variables\n",
        "  house_number=' '\n",
        "  street_name=\" \"\n",
        "\n",
        "  # Separate the address string into parts\n",
        "  x=address_string.split(\" \")\n",
        "  # Traverse through the address parts\n",
        "  for y in x:\n",
        "    if(y.isdigit()):\n",
        "      house_number=y\n",
        "    else:\n",
        "      street_name+=y\n",
        "      street_name+=' '\n",
        "    # Determine if the address part is the\n",
        "    # house number or part of the street name\n",
        " # Does anything else need to be done\n",
        "  # before returning the result?\n",
        "\n",
        "  # Return the formatted string\n",
        "    return \"house number {} on street named {}\".format(house_number,street_name)\n",
        "\n",
        "print(format_address(\"123 Main Street\"))\n",
        "# Should print: \"house number 123 on street named Main Street\""
      ]
    },
    {
      "cell_type": "code",
      "execution_count": null,
      "metadata": {
        "id": "_Elc5YZ1vkd-",
        "colab": {
          "base_uri": "https://localhost:8080/"
        },
        "outputId": "678412aa-0a58-4950-8c43-f26059ba41a4"
      },
      "outputs": [
        {
          "output_type": "stream",
          "name": "stdout",
          "text": [
            "house number 123 on street named  \n"
          ]
        }
      ],
      "source": [
        "def format_address(address_string):\n",
        "  # Declare variables\n",
        "  house_number=' '\n",
        "  street_name=\" \"\n",
        "\n",
        "  # Separate the address string into parts\n",
        "  x=address_string.split(\" \")\n",
        "  # Traverse through the address parts\n",
        "  for y in x:\n",
        "    if(y.isdigit()):\n",
        "      house_number=y\n",
        "    else:\n",
        "      street_name+=y\n",
        "      street_name+=' '\n",
        "    # Determine if the address part is the\n",
        "    # house number or part of the street name\n",
        " # Does anything else need to be done\n",
        "  # before returning the result?\n",
        "\n",
        "  # Return the formatted string\n",
        "    return \"house number {} on street named {}\".format(house_number,street_name)\n",
        "print(format_address(\"123 Main Street\"))"
      ]
    },
    {
      "cell_type": "code",
      "execution_count": null,
      "metadata": {
        "id": "YOM5-07Gvkd-",
        "colab": {
          "base_uri": "https://localhost:8080/"
        },
        "outputId": "4b9fc4cd-4191-40a9-dfac-344f00d73f13"
      },
      "outputs": [
        {
          "output_type": "stream",
          "name": "stdout",
          "text": [
            "house number 1001 on street named  \n"
          ]
        }
      ],
      "source": [
        "def format_address(address_string):\n",
        "  # Declare variables\n",
        "  house_number=' '\n",
        "  street_name=\" \"\n",
        "\n",
        "  # Separate the address string into parts\n",
        "  x=address_string.split(\" \")\n",
        "  # Traverse through the address parts\n",
        "  for y in x:\n",
        "    if(y.isdigit()):\n",
        "      house_number=y\n",
        "    else:\n",
        "      street_name+=y\n",
        "      street_name+=' '\n",
        "    # Determine if the address part is the\n",
        "    # house number or part of the street name\n",
        " # Does anything else need to be done\n",
        "  # before returning the result?\n",
        "\n",
        "  # Return the formatted string\n",
        "    return \"house number {} on street named {}\".format(house_number,street_name)\n",
        "print(format_address(\"1001 1st Ave\"))\n",
        "# Should print: \"house number 1001 on street named 1st Ave\""
      ]
    },
    {
      "cell_type": "code",
      "execution_count": null,
      "metadata": {
        "id": "Oexh-bdRvkd_",
        "colab": {
          "base_uri": "https://localhost:8080/"
        },
        "outputId": "60d3edc0-c82e-4167-b322-fdd916c4f736"
      },
      "outputs": [
        {
          "output_type": "stream",
          "name": "stdout",
          "text": [
            "house number 55 on street named  \n"
          ]
        }
      ],
      "source": [
        "def format_address(address_string):\n",
        "  # Declare variables\n",
        "  house_number=' '\n",
        "  street_name=\" \"\n",
        "\n",
        "  # Separate the address string into parts\n",
        "  x=address_string.split(\" \")\n",
        "  # Traverse through the address parts\n",
        "  for y in x:\n",
        "    if(y.isdigit()):\n",
        "      house_number=y\n",
        "    else:\n",
        "      street_name+=y\n",
        "      street_name+=' '\n",
        "    # Determine if the address part is the\n",
        "    # house number or part of the street name\n",
        " # Does anything else need to be done\n",
        "  # before returning the result?\n",
        "\n",
        "  # Return the formatted string\n",
        "    return \"house number {} on street named {}\".format(house_number,street_name)\n",
        "\n",
        "print(format_address(\"55 North Center Drive\"))\n",
        "# Should print \"house number 55 on street named North Center Drive\""
      ]
    },
    {
      "cell_type": "markdown",
      "metadata": {
        "id": "vLp_rPqnvkeA"
      },
      "source": [
        "## Done All?\n",
        "## Great Job!"
      ]
    },
    {
      "cell_type": "code",
      "execution_count": null,
      "metadata": {
        "id": "KzVQoi1RvkeB"
      },
      "outputs": [],
      "source": []
    }
  ],
  "metadata": {
    "kernelspec": {
      "display_name": "Python 3",
      "language": "python",
      "name": "python3"
    },
    "language_info": {
      "codemirror_mode": {
        "name": "ipython",
        "version": 3
      },
      "file_extension": ".py",
      "mimetype": "text/x-python",
      "name": "python",
      "nbconvert_exporter": "python",
      "pygments_lexer": "ipython3",
      "version": "3.6.8"
    },
    "colab": {
      "provenance": []
    }
  },
  "nbformat": 4,
  "nbformat_minor": 0
}