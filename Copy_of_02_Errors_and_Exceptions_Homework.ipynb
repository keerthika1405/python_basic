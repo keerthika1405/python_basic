{
  "cells": [
    {
      "cell_type": "markdown",
      "source": [],
      "metadata": {
        "id": "i3X-c7Rnykvi"
      }
    },
    {
      "cell_type": "markdown",
      "metadata": {
        "id": "ptpRv5MCwZOe"
      },
      "source": [
        "# Errors and Exceptions Homework"
      ]
    },
    {
      "cell_type": "markdown",
      "metadata": {
        "id": "CBdDbJlrwZOw"
      },
      "source": [
        "### Problem 1\n",
        "Handle the exception thrown by the code below by using <code>try</code> and <code>except</code> blocks."
      ]
    },
    {
      "cell_type": "code",
      "execution_count": null,
      "metadata": {
        "id": "_xk9LLKzwZOz",
        "outputId": "20d1f0b3-dcba-4eec-e925-4cb21446e190",
        "colab": {
          "base_uri": "https://localhost:8080/"
        }
      },
      "outputs": [
        {
          "output_type": "stream",
          "name": "stdout",
          "text": [
            "input is in string\n",
            "input is in string\n",
            "input is in string\n"
          ]
        }
      ],
      "source": [
        "for i in ['a','b','c']:\n",
        "   try:\n",
        "    print(i**2)\n",
        "   except:\n",
        "    print(\"input is in string\")"
      ]
    },
    {
      "cell_type": "markdown",
      "source": [],
      "metadata": {
        "id": "Eqst71faxF_g"
      }
    },
    {
      "cell_type": "markdown",
      "metadata": {
        "id": "4BC9ZCGvwZO8"
      },
      "source": [
        "\n",
        "\n",
        "\n",
        "8### Problem 2\n",
        "Handle the exception thrown by the code below by using <code>try</code> and <code>except</code> blocks. Then use a <code>finally</code> block to print 'All Done.'"
      ]
    },
    {
      "cell_type": "code",
      "execution_count": null,
      "metadata": {
        "id": "hIZzNyBhwZO-",
        "outputId": "1b8c7daf-a0ad-46c2-8a2a-76a6faca32b9",
        "colab": {
          "base_uri": "https://localhost:8080/"
        }
      },
      "outputs": [
        {
          "output_type": "stream",
          "name": "stdout",
          "text": [
            "zero division error\n",
            "All Done\n"
          ]
        }
      ],
      "source": [
        "x = 5\n",
        "y = 0\n",
        "try:\n",
        "    z = x/y\n",
        "except:\n",
        "  print(\"zero division error\")\n",
        "finally:\n",
        "      print(\"All Done\")\n"
      ]
    },
    {
      "cell_type": "markdown",
      "metadata": {
        "id": "gcXIub3dwZPA"
      },
      "source": [
        "### Problem 3\n",
        "Write a function that asks for an integer and prints the square of it. Use a <code>while</code> loop with a <code>try</code>, <code>except</code>, <code>else</code> block to account for incorrect inputs."
      ]
    },
    {
      "cell_type": "code",
      "execution_count": null,
      "metadata": {
        "collapsed": true,
        "id": "ZK5GDjMzwZPD"
      },
      "outputs": [],
      "source": [
        "def ask():\n",
        "    while True:\n",
        "      try:\n",
        "        val=int(raw_input(\"enter a number:\"))\n",
        "      except:\n",
        "        print(\"enter a proper number\")\n",
        "        continue\n",
        "      else:\n",
        "        print(\"the square of the entered number is:\",val**2)\n",
        "        break\n",
        "\n"
      ]
    },
    {
      "cell_type": "markdown",
      "metadata": {
        "id": "ej4Nm9SjwZPM"
      },
      "source": [
        "# Great Job!"
      ]
    }
  ],
  "metadata": {
    "kernelspec": {
      "display_name": "Python 3",
      "language": "python",
      "name": "python3"
    },
    "language_info": {
      "codemirror_mode": {
        "name": "ipython",
        "version": 3
      },
      "file_extension": ".py",
      "mimetype": "text/x-python",
      "name": "python",
      "nbconvert_exporter": "python",
      "pygments_lexer": "ipython3",
      "version": "3.6.8"
    },
    "colab": {
      "provenance": []
    }
  },
  "nbformat": 4,
  "nbformat_minor": 0
}