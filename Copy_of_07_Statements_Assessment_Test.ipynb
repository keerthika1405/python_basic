{
  "cells": [
    {
      "cell_type": "code",
      "source": [],
      "metadata": {
        "id": "9lM_ivL06fQW"
      },
      "execution_count": null,
      "outputs": []
    },
    {
      "cell_type": "markdown",
      "metadata": {
        "collapsed": true,
        "id": "HgW4itE_gsW4"
      },
      "source": [
        "# Statements Assessment Test\n",
        "Let's test your knowledge!"
      ]
    },
    {
      "cell_type": "markdown",
      "metadata": {
        "id": "AwqyBXnkgsXM"
      },
      "source": [
        "**use for loop to acess the given element of 2D list and print it**"
      ]
    },
    {
      "cell_type": "code",
      "execution_count": null,
      "metadata": {
        "id": "kMsHNWoRgsXQ"
      },
      "outputs": [],
      "source": [
        "list2d = [[0, 0, 0, 0, 0], [0, 0, 0, 0, 0], [0, 0, 0, 0, 0], [0, 0, 0, 0, 0], [0, 0, 0, 0, 0]]"
      ]
    },
    {
      "cell_type": "code",
      "execution_count": null,
      "metadata": {
        "id": "5PkgrzIxgsXW",
        "outputId": "a44bb5a3-a52d-4c71-ce6e-13deeca85de6",
        "colab": {
          "base_uri": "https://localhost:8080/"
        }
      },
      "outputs": [
        {
          "output_type": "stream",
          "name": "stdout",
          "text": [
            "0 0 0 0 0 0 0 0 0 0 0 0 0 0 0 0 0 0 0 0 0 0 0 0 0 "
          ]
        }
      ],
      "source": [
        "#write your code here\n",
        "\n",
        "list2d = [[0, 0, 0, 0, 0], [0, 0, 0, 0, 0], [0, 0, 0, 0, 0], [0, 0, 0, 0, 0], [0, 0, 0, 0, 0]]\n",
        "for i in range(len(list2d)):\n",
        "    for j in range(len(list2d[i])):\n",
        "       print(list2d[i][j],end=\" \")\n",
        "\n"
      ]
    },
    {
      "cell_type": "markdown",
      "metadata": {
        "id": "yr0u9X3ugsXY"
      },
      "source": [
        "**change the element in this 2d list. any kind of change you want is acceptable**"
      ]
    },
    {
      "cell_type": "code",
      "source": [],
      "metadata": {
        "id": "Dt3m0DtcmaRz"
      },
      "execution_count": null,
      "outputs": []
    },
    {
      "cell_type": "code",
      "execution_count": null,
      "metadata": {
        "id": "Gh_wx1C7gsXa",
        "outputId": "aafc2636-c1ba-4392-e207-b700f5b3c107",
        "colab": {
          "base_uri": "https://localhost:8080/"
        }
      },
      "outputs": [
        {
          "output_type": "stream",
          "name": "stdout",
          "text": [
            "[[0, 0, 0, 0, 0], [0, 0, 0, 0, 0], [0, 0, 0, 0, 0], [0, 0, 0, 0, 0], [0, 0, 0, 0, 0]]\n",
            "0\n",
            "[[1, 1, 1, 1], [0, 0, 0, 0, 0], [0, 0, 0, 0, 0], [0, 0, 0, 0, 0], [0, 0, 0, 0, 0]]\n"
          ]
        }
      ],
      "source": [
        "#write your code here\n",
        "list2d = [[0, 0, 0, 0, 0], [0, 0, 0, 0, 0], [0, 0, 0, 0, 0], [0, 0, 0, 0, 0], [0, 0, 0, 0, 0]]\n",
        "\n",
        "print(list2d)\n",
        "print(list2d[0][1])\n",
        "list2d[0]= [1,1,1,1]\n",
        "print(list2d)"
      ]
    },
    {
      "cell_type": "markdown",
      "metadata": {
        "id": "TVefcV1tgsXc"
      },
      "source": [
        "_____\n",
        "**Use <code>for</code>, .split(), and <code>if</code> to create a Statement that will print out words that start with 's':**"
      ]
    },
    {
      "cell_type": "code",
      "execution_count": null,
      "metadata": {
        "collapsed": true,
        "id": "Egttn_I-gsXe",
        "outputId": "b0d3628c-de8b-49af-fe04-97f4300b2681",
        "colab": {
          "base_uri": "https://localhost:8080/"
        }
      },
      "outputs": [
        {
          "output_type": "stream",
          "name": "stdout",
          "text": [
            "start\n",
            "s\n",
            "sentence\n"
          ]
        }
      ],
      "source": [
        "st = 'Print only the words that start with s in this sentence'\n",
        "for word  in st.split():\n",
        "    if word[0] == 's':\n",
        "        print(word)"
      ]
    },
    {
      "cell_type": "code",
      "execution_count": null,
      "metadata": {
        "collapsed": true,
        "id": "i347z03AgsXg"
      },
      "outputs": [],
      "source": [
        "#Code here\n"
      ]
    },
    {
      "cell_type": "markdown",
      "metadata": {
        "id": "WAvWJejlgsXw"
      },
      "source": [
        "______\n",
        "**Use range() to print all the even numbers from 0 to 10.**"
      ]
    },
    {
      "cell_type": "code",
      "execution_count": null,
      "metadata": {
        "collapsed": true,
        "id": "GHq9RBJdgsX1",
        "outputId": "7b268d38-1b3d-40ca-974e-4ff0f57688d0",
        "colab": {
          "base_uri": "https://localhost:8080/"
        }
      },
      "outputs": [
        {
          "output_type": "stream",
          "name": "stdout",
          "text": [
            "[0, 2, 4, 6, 8, 10]\n"
          ]
        }
      ],
      "source": [
        "#Code Here\n",
        "lst = list(range(0,11,2))\n",
        "print(lst)\n",
        "#lst = list(range(1,11,2))--for odd number\n",
        "\n"
      ]
    },
    {
      "cell_type": "markdown",
      "metadata": {
        "id": "VUZGkEIwgsX7"
      },
      "source": [
        "___\n",
        "**Use a List Comprehension to create a list of all numbers between 1 and 50 that are divisible by 3.**"
      ]
    },
    {
      "cell_type": "code",
      "execution_count": null,
      "metadata": {
        "collapsed": true,
        "id": "QYUbYculgsX8",
        "outputId": "4ac54e9c-0638-4aae-d2c1-ff5c4847d326",
        "colab": {
          "base_uri": "https://localhost:8080/"
        }
      },
      "outputs": [
        {
          "output_type": "stream",
          "name": "stdout",
          "text": [
            "[3, 6, 9, 12, 15, 18, 21, 24, 27, 30, 33, 36, 39, 42, 45, 48]\n"
          ]
        }
      ],
      "source": [
        "#Code in this cell\n",
        "mylist = [x for x in range(1,51) if x % 3 == 0]\n",
        "print(mylist)\n",
        "#tables\n"
      ]
    },
    {
      "cell_type": "markdown",
      "metadata": {
        "id": "kxRpU-47gsX-"
      },
      "source": [
        "_____\n",
        "**Go through the string below and if the length of a word is even print \"even!\"**"
      ]
    },
    {
      "cell_type": "code",
      "execution_count": null,
      "metadata": {
        "collapsed": true,
        "id": "VzGVs9NVgsX_",
        "outputId": "3b2cfaf5-e1cf-4d07-d060-fb553854bfa0",
        "colab": {
          "base_uri": "https://localhost:8080/"
        }
      },
      "outputs": [
        {
          "output_type": "stream",
          "name": "stdout",
          "text": [
            "['Print', 'every', 'word', 'in', 'this', 'sentence', 'that', 'has', 'an', 'even', 'number', 'of', 'letters']\n",
            "['word', 'even!']\n",
            "['in', 'even!']\n",
            "['this', 'even!']\n",
            "['sentence', 'even!']\n",
            "['that', 'even!']\n",
            "['an', 'even!']\n",
            "['even', 'even!']\n",
            "['number', 'even!']\n",
            "['of', 'even!']\n"
          ]
        }
      ],
      "source": [
        "st = 'Print every word in this sentence that has an even number of letters'\n",
        "x = st.split()\n",
        "print(x)\n",
        "\n",
        "for word in x:\n",
        "  if len(word)%2==0:\n",
        "    print([word,'even!'])\n",
        "\n",
        "    # print([word, 'odd!']) for odd"
      ]
    },
    {
      "cell_type": "code",
      "execution_count": null,
      "metadata": {
        "collapsed": true,
        "id": "PceQrarQgsYA"
      },
      "outputs": [],
      "source": [
        "#Code in this cell"
      ]
    },
    {
      "cell_type": "markdown",
      "metadata": {
        "id": "aCgeb7_mgsYC"
      },
      "source": [
        "**write an example of do while loop,**"
      ]
    },
    {
      "cell_type": "code",
      "execution_count": null,
      "metadata": {
        "id": "spW4zHQHgsYD",
        "outputId": "d67db002-60b9-4f78-8fa0-48dd73d4c24d",
        "colab": {
          "base_uri": "https://localhost:8080/"
        }
      },
      "outputs": [
        {
          "output_type": "stream",
          "name": "stdout",
          "text": [
            "1\n",
            "2\n",
            "3\n",
            "4\n",
            "5\n"
          ]
        }
      ],
      "source": [
        "#Code in this cell\n",
        "\n",
        "i = 1\n",
        "while True:\n",
        "    print(i)\n",
        "    i = i + 1\n",
        "    if(i > 5):\n",
        "        break"
      ]
    },
    {
      "cell_type": "markdown",
      "metadata": {
        "id": "1fhnsL2vgsYF"
      },
      "source": [
        "____\n",
        "**Write a program that prints the integers from 1 to 100. But for multiples of three print \"Fizz\" instead of the number, and for the multiples of five print \"Buzz\". For numbers which are multiples of both three and five print \"FizzBuzz\".**"
      ]
    },
    {
      "cell_type": "code",
      "execution_count": null,
      "metadata": {
        "collapsed": true,
        "id": "P8ivjSfOgsYH",
        "outputId": "21fb06f3-b65c-44ba-9841-cddf9a639bc6",
        "colab": {
          "base_uri": "https://localhost:8080/"
        }
      },
      "outputs": [
        {
          "output_type": "stream",
          "name": "stdout",
          "text": [
            "1\n",
            "2\n",
            "Fizz:3\n",
            "4\n",
            "Buzz:5\n",
            "Fizz:6\n",
            "7\n",
            "8\n",
            "Fizz:9\n",
            "Buzz:10\n",
            "11\n",
            "Fizz:12\n",
            "13\n",
            "14\n",
            "FizzBuzz: 15\n",
            "16\n",
            "17\n",
            "Fizz:18\n",
            "19\n",
            "Buzz:20\n",
            "Fizz:21\n",
            "22\n",
            "23\n",
            "Fizz:24\n",
            "Buzz:25\n",
            "26\n",
            "Fizz:27\n",
            "28\n",
            "29\n",
            "FizzBuzz: 30\n",
            "31\n",
            "32\n",
            "Fizz:33\n",
            "34\n",
            "Buzz:35\n",
            "Fizz:36\n",
            "37\n",
            "38\n",
            "Fizz:39\n",
            "Buzz:40\n",
            "41\n",
            "Fizz:42\n",
            "43\n",
            "44\n",
            "FizzBuzz: 45\n",
            "46\n",
            "47\n",
            "Fizz:48\n",
            "49\n",
            "Buzz:50\n",
            "Fizz:51\n",
            "52\n",
            "53\n",
            "Fizz:54\n",
            "Buzz:55\n",
            "56\n",
            "Fizz:57\n",
            "58\n",
            "59\n",
            "FizzBuzz: 60\n",
            "61\n",
            "62\n",
            "Fizz:63\n",
            "64\n",
            "Buzz:65\n",
            "Fizz:66\n",
            "67\n",
            "68\n",
            "Fizz:69\n",
            "Buzz:70\n",
            "71\n",
            "Fizz:72\n",
            "73\n",
            "74\n",
            "FizzBuzz: 75\n",
            "76\n",
            "77\n",
            "Fizz:78\n",
            "79\n",
            "Buzz:80\n",
            "Fizz:81\n",
            "82\n",
            "83\n",
            "Fizz:84\n",
            "Buzz:85\n",
            "86\n",
            "Fizz:87\n",
            "88\n",
            "89\n",
            "FizzBuzz: 90\n",
            "91\n",
            "92\n",
            "Fizz:93\n",
            "94\n",
            "Buzz:95\n",
            "Fizz:96\n",
            "97\n",
            "98\n",
            "Fizz:99\n",
            "Buzz:100\n"
          ]
        }
      ],
      "source": [
        "#Code in this cell\n",
        "for num in range(1,101):\n",
        "    if num % 3 == 0 and num % 5 == 0:\n",
        "        print(\"FizzBuzz: \"+str(num))\n",
        "    elif num % 3 == 0:\n",
        "        print(\"Fizz:\" +str(num))\n",
        "    elif num % 5 == 0:\n",
        "        print(\"Buzz:\" +str(num))\n",
        "    else:\n",
        "        print(num)"
      ]
    },
    {
      "cell_type": "markdown",
      "metadata": {
        "id": "alKtip-ZgsYJ"
      },
      "source": [
        "____\n",
        "**Use List Comprehension to create a list of the first letters of every word in the string below:**"
      ]
    },
    {
      "cell_type": "code",
      "execution_count": null,
      "metadata": {
        "collapsed": true,
        "id": "M12F8lmXgsYJ",
        "outputId": "c3bade38-20f2-4a73-eec9-e0e7619111b3",
        "colab": {
          "base_uri": "https://localhost:8080/"
        }
      },
      "outputs": [
        {
          "output_type": "stream",
          "name": "stdout",
          "text": [
            "['C', 'a', 'l', 'o', 't', 'f', 'l', 'o', 'e', 'w', 'i', 't', 's']\n"
          ]
        }
      ],
      "source": [
        "st = 'Create a list of the first letters of every word in this string'\n",
        "st = [word[0] for word in st.split()]\n",
        "print(st)"
      ]
    },
    {
      "cell_type": "code",
      "execution_count": null,
      "metadata": {
        "collapsed": true,
        "id": "xFR-397dgsYK"
      },
      "outputs": [],
      "source": [
        "#Code in this cell"
      ]
    },
    {
      "cell_type": "markdown",
      "metadata": {
        "id": "iU3cacUEgsYL"
      },
      "source": [
        "**Give an example of nested list comprehension**"
      ]
    },
    {
      "cell_type": "code",
      "execution_count": null,
      "metadata": {
        "id": "RoRNNNaDgsYM",
        "outputId": "ecffedcb-82a4-46de-f8b5-0ee3d865ae26",
        "colab": {
          "base_uri": "https://localhost:8080/"
        }
      },
      "outputs": [
        {
          "output_type": "stream",
          "name": "stdout",
          "text": [
            "[[1, 4, 9], [16, 25, 36], [49, 64, 81]]\n"
          ]
        }
      ],
      "source": [
        "#Code in this cell\n",
        "nested_list = [[1,2,3],[4,5,6],[7,8,9]]\n",
        "\n",
        "new_list = [[x**2 for x in sublist] for sublist in nested_list]\n",
        "print(new_list )\n",
        "\n"
      ]
    },
    {
      "cell_type": "code",
      "source": [],
      "metadata": {
        "id": "0HHzQXOe4sMp"
      },
      "execution_count": null,
      "outputs": []
    },
    {
      "cell_type": "markdown",
      "metadata": {
        "id": "R7JbSoiGgsYN"
      },
      "source": [
        "### Great Job!"
      ]
    }
  ],
  "metadata": {
    "kernelspec": {
      "display_name": "Python 3",
      "language": "python",
      "name": "python3"
    },
    "language_info": {
      "codemirror_mode": {
        "name": "ipython",
        "version": 3
      },
      "file_extension": ".py",
      "mimetype": "text/x-python",
      "name": "python",
      "nbconvert_exporter": "python",
      "pygments_lexer": "ipython3",
      "version": "3.6.8"
    },
    "colab": {
      "provenance": [],
      "toc_visible": true
    }
  },
  "nbformat": 4,
  "nbformat_minor": 0
}